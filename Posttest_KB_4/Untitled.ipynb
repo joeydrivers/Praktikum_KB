{
 "cells": [
  {
   "cell_type": "markdown",
   "id": "948de66b-997c-4e5a-bc83-06b771cfacdb",
   "metadata": {},
   "source": [
    "## Nama: Joy Disanto Nupa\n",
    "## NIM: 2209106014\n",
    "## Kelas: A1 2022 Informatika\n",
    "## POSTTEST 4 Kecerdasan Buatan\n",
    "# _________________________________________________________________________________________"
   ]
  },
  {
   "cell_type": "code",
   "execution_count": 253,
   "id": "874ae0fa-4db5-4c63-8c4d-26cad5c60865",
   "metadata": {},
   "outputs": [],
   "source": [
    "from sklearn.impute import SimpleImputer\n",
    "from sklearn.preprocessing import StandardScaler\n",
    "from sklearn.preprocessing import MinMaxScaler\n",
    "from sklearn.preprocessing import OrdinalEncoder\n",
    "from sklearn.preprocessing import OneHotEncoder\n",
    "from sklearn.model_selection import train_test_split\n",
    "import pandas as pd"
   ]
  },
  {
   "cell_type": "markdown",
   "id": "47eaf416-bcda-4461-867f-f0433e7eb2c4",
   "metadata": {},
   "source": [
    "### kita harus mengimport semua library yang akan kita pakai"
   ]
  },
  {
   "cell_type": "code",
   "execution_count": 254,
   "id": "fe44e8bd-922f-416d-8673-656211884acd",
   "metadata": {},
   "outputs": [],
   "source": [
    "joy = pd.read_csv('NYC_Motor_Vehicle_Collisions_to_Person.csv')"
   ]
  },
  {
   "cell_type": "markdown",
   "id": "5984659b-688f-4df1-9a9e-bf2cf0106128",
   "metadata": {},
   "source": [
    "### lalu kita ambil csv nya untuk keperluan data preprocessing"
   ]
  },
  {
   "cell_type": "markdown",
   "id": "7adc5082-13a9-4f43-a34d-8dab96bffbf5",
   "metadata": {},
   "source": [
    "# DataSplit\n",
    "### 70:30"
   ]
  },
  {
   "cell_type": "code",
   "execution_count": 255,
   "id": "82a84888-fb49-48f9-b67a-3f93da7c7cdf",
   "metadata": {},
   "outputs": [],
   "source": [
    "X = joy.drop(columns='PERSON_AGE')\n",
    "y = joy['PERSON_AGE']"
   ]
  },
  {
   "cell_type": "code",
   "execution_count": 256,
   "id": "85296b6e-fbc7-4172-b681-750dbc598e93",
   "metadata": {},
   "outputs": [],
   "source": [
    "X_train, X_test, y_train, y_test = train_test_split(X, y, test_size=0.3, random_state=42)"
   ]
  },
  {
   "cell_type": "code",
   "execution_count": 257,
   "id": "99428d26-f61f-4d50-a680-3fc37b93cb2b",
   "metadata": {},
   "outputs": [
    {
     "name": "stdout",
     "output_type": "stream",
     "text": [
      "(31968, 20)\n",
      "(13701, 20)\n",
      "(31968,)\n",
      "(13701,)\n"
     ]
    }
   ],
   "source": [
    "print(X_train.shape)\n",
    "print(X_test.shape)\n",
    "print(y_train.shape)\n",
    "print(y_test.shape)"
   ]
  },
  {
   "cell_type": "markdown",
   "id": "77e2053d-4613-42d6-bf56-1d7f305bb728",
   "metadata": {},
   "source": [
    "### disini kita melakukan datasplit, dimana kita menentukan x dan y nya untuk di training set dan testing set\n",
    "### kita memakai test size nya 0,3, karena 0,3 melambangkan 30% dari total data 100% data dan menjadi sisa data 70%"
   ]
  },
  {
   "cell_type": "markdown",
   "id": "18ff7480-6297-4670-b1db-9eabd78fcc74",
   "metadata": {},
   "source": [
    "# Standarisasi"
   ]
  },
  {
   "cell_type": "code",
   "execution_count": 258,
   "id": "b9adbb5f-5271-4f16-bd4d-99fb46ab5374",
   "metadata": {},
   "outputs": [],
   "source": [
    "joy1 = pd.read_csv('NYC_Motor_Vehicle_Collisions_to_Person-Copy1.csv')"
   ]
  },
  {
   "cell_type": "markdown",
   "id": "68d095dd-b719-44cd-8761-73c10d8f8651",
   "metadata": {},
   "source": [
    "### kita ambil csv nya untuk keperluan data preprocessing"
   ]
  },
  {
   "cell_type": "code",
   "execution_count": 259,
   "id": "a1e446e3-2d27-4f46-bb08-40a01f7e57a4",
   "metadata": {},
   "outputs": [],
   "source": [
    "slr = StandardScaler()\n",
    "joy1[['PERSON_AGE', 'VEHICLE_ID', 'UNIQUE_ID', 'COLLISION_ID']] = slr.fit_transform(joy1[['PERSON_AGE', 'VEHICLE_ID', 'UNIQUE_ID', 'COLLISION_ID']])"
   ]
  },
  {
   "cell_type": "markdown",
   "id": "1162bee0-5f08-4580-97e7-6ac7e6716bb6",
   "metadata": {},
   "source": [
    "### kita melakukan standarisasi dengan menggunakan data integer dan float"
   ]
  },
  {
   "cell_type": "markdown",
   "id": "a1bd39c8-fd8f-4d41-9cac-f2a487a58952",
   "metadata": {},
   "source": [
    "# Normalisasi"
   ]
  },
  {
   "cell_type": "code",
   "execution_count": 260,
   "id": "f0739c77-a9ea-4a0a-95d5-d8d19c4a14f7",
   "metadata": {},
   "outputs": [],
   "source": [
    "mx = MinMaxScaler()\n",
    "joy1[['PERSON_AGE', 'VEHICLE_ID', 'UNIQUE_ID', 'COLLISION_ID']] = mx.fit_transform(joy1[['PERSON_AGE', 'VEHICLE_ID', 'UNIQUE_ID', 'COLLISION_ID']])"
   ]
  },
  {
   "cell_type": "code",
   "execution_count": 261,
   "id": "dc91ab36-72b4-44f0-8fe1-810d9e2c9a49",
   "metadata": {},
   "outputs": [
    {
     "data": {
      "text/plain": [
       "1.0"
      ]
     },
     "execution_count": 261,
     "metadata": {},
     "output_type": "execute_result"
    }
   ],
   "source": [
    "joy1['PERSON_AGE'].max()"
   ]
  },
  {
   "cell_type": "code",
   "execution_count": 262,
   "id": "0dfdb241-78f4-4fd8-ae59-da28a89df277",
   "metadata": {},
   "outputs": [
    {
     "data": {
      "text/plain": [
       "0.0"
      ]
     },
     "execution_count": 262,
     "metadata": {},
     "output_type": "execute_result"
    }
   ],
   "source": [
    "joy1['PERSON_AGE'].min()"
   ]
  },
  {
   "cell_type": "markdown",
   "id": "e23fe697-3566-4fb8-9d18-f37d7f7768c6",
   "metadata": {},
   "source": [
    "### kita melakukan Normalisasi dengan menggunakan data integer dan float, lali kita tampilkan scaler min max nya"
   ]
  },
  {
   "cell_type": "markdown",
   "id": "938a7dd5-08bd-43cd-94f7-1f2afe5175a2",
   "metadata": {},
   "source": [
    "# Data Cleaning pada data duplikat"
   ]
  },
  {
   "cell_type": "code",
   "execution_count": 263,
   "id": "0dca0578-d6b1-4be6-8a66-2823c673922b",
   "metadata": {},
   "outputs": [],
   "source": [
    "joy = joy.copy()"
   ]
  },
  {
   "cell_type": "markdown",
   "id": "3b56af60-4706-4217-bdd3-38f6e71ad834",
   "metadata": {},
   "source": [
    "### mengapa kita mengcopy datanya, karena didataset kita tidak menjumpai duplikasi data, jadi kita copy agar terjadi duplikasi"
   ]
  },
  {
   "cell_type": "code",
   "execution_count": 264,
   "id": "2d537aca-21d3-452b-8afc-a8a8ed84f9cb",
   "metadata": {},
   "outputs": [],
   "source": [
    "joy = pd.concat([joy, joy], ignore_index=True)"
   ]
  },
  {
   "cell_type": "code",
   "execution_count": 265,
   "id": "8bfb8dad-0e1d-46a5-b29e-9783691265ff",
   "metadata": {},
   "outputs": [
    {
     "name": "stdout",
     "output_type": "stream",
     "text": [
      "NIlai Duplikat: \n"
     ]
    },
    {
     "data": {
      "text/plain": [
       "45669"
      ]
     },
     "execution_count": 265,
     "metadata": {},
     "output_type": "execute_result"
    }
   ],
   "source": [
    "print(\"NIlai Duplikat: \")\n",
    "joy.duplicated().sum()"
   ]
  },
  {
   "cell_type": "markdown",
   "id": "05a9dd7e-9c98-427b-b9ed-192cf654ea58",
   "metadata": {},
   "source": [
    "### lalu kita menggabungkan data asli dan data copyan, lalu kita tampilkan data duplikatnya"
   ]
  },
  {
   "cell_type": "code",
   "execution_count": 266,
   "id": "f1b48e37-6203-4f9a-82a8-3a2bb2490621",
   "metadata": {},
   "outputs": [],
   "source": [
    "joy.drop_duplicates(inplace=True)"
   ]
  },
  {
   "cell_type": "code",
   "execution_count": 267,
   "id": "063f7792-489f-48a6-83f0-e22a3529ee68",
   "metadata": {},
   "outputs": [
    {
     "name": "stdout",
     "output_type": "stream",
     "text": [
      "NIlai Duplikat: \n"
     ]
    },
    {
     "data": {
      "text/plain": [
       "0"
      ]
     },
     "execution_count": 267,
     "metadata": {},
     "output_type": "execute_result"
    }
   ],
   "source": [
    "print(\"NIlai Duplikat: \")\n",
    "joy.duplicated().sum()"
   ]
  },
  {
   "cell_type": "markdown",
   "id": "55933305-192d-450a-9348-915dc87fd924",
   "metadata": {},
   "source": [
    "### sekarang kita drop lagi data duplikatnya, lalu kita tampilkan lagi dan hasilnya sudah 0 data duplikat"
   ]
  },
  {
   "cell_type": "markdown",
   "id": "27ada879-042c-4b41-bbdd-09aff616d8fa",
   "metadata": {},
   "source": [
    "# Data Cleaning nilai null"
   ]
  },
  {
   "cell_type": "code",
   "execution_count": 268,
   "id": "eba43077-7c73-48b2-bb83-96d510831c93",
   "metadata": {},
   "outputs": [
    {
     "data": {
      "text/plain": [
       "CRASH_DATE                   0\n",
       "CRASH_TIME                   0\n",
       "PERSON_INJURY                0\n",
       "PERSON_AGE                 421\n",
       "BODILY_INJURY                0\n",
       "SAFETY_EQUIPMENT          6235\n",
       "PERSON_SEX                   0\n",
       "PERSON_TYPE                  0\n",
       "PED_LOCATION             39098\n",
       "CONTRIBUTING_FACTOR_2    39123\n",
       "EJECTION                  6240\n",
       "COMPLAINT                    0\n",
       "EMOTIONAL_STATUS             0\n",
       "VEHICLE_ID                6571\n",
       "PERSON_ID                    0\n",
       "CONTRIBUTING_FACTOR_1    39111\n",
       "POSITION_IN_VEHICLE       6221\n",
       "PED_ROLE                     0\n",
       "UNIQUE_ID                    0\n",
       "PED_ACTION               39098\n",
       "COLLISION_ID                 0\n",
       "dtype: int64"
      ]
     },
     "execution_count": 268,
     "metadata": {},
     "output_type": "execute_result"
    }
   ],
   "source": [
    "joy.isnull().sum()"
   ]
  },
  {
   "cell_type": "markdown",
   "id": "1b91f1f3-ee35-48dc-897a-44c5e84664ba",
   "metadata": {},
   "source": [
    "### kita tampilkan data-data yang memiliki nilai null dalam kolomnya, agar kita bisa tau dan kita hapus datanya"
   ]
  },
  {
   "cell_type": "code",
   "execution_count": 269,
   "id": "6a55c850-5718-4025-a563-467e8e928a8a",
   "metadata": {},
   "outputs": [],
   "source": [
    "joy_modus = SimpleImputer(strategy='most_frequent')\n",
    "joy[['PERSON_AGE', 'SAFETY_EQUIPMENT', 'PED_LOCATION', 'CONTRIBUTING_FACTOR_2', 'EJECTION', 'VEHICLE_ID', 'CONTRIBUTING_FACTOR_1', 'POSITION_IN_VEHICLE', 'PED_ACTION']] = joy_modus.fit_transform(joy[['PERSON_AGE', 'SAFETY_EQUIPMENT', 'PED_LOCATION', 'CONTRIBUTING_FACTOR_2', 'EJECTION', 'VEHICLE_ID', 'CONTRIBUTING_FACTOR_1', 'POSITION_IN_VEHICLE', 'PED_ACTION']])"
   ]
  },
  {
   "cell_type": "code",
   "execution_count": 270,
   "id": "3b2b49f5-cc8c-4a2e-8be1-0239c6ae33dd",
   "metadata": {},
   "outputs": [
    {
     "data": {
      "text/plain": [
       "CRASH_DATE               0\n",
       "CRASH_TIME               0\n",
       "PERSON_INJURY            0\n",
       "PERSON_AGE               0\n",
       "BODILY_INJURY            0\n",
       "SAFETY_EQUIPMENT         0\n",
       "PERSON_SEX               0\n",
       "PERSON_TYPE              0\n",
       "PED_LOCATION             0\n",
       "CONTRIBUTING_FACTOR_2    0\n",
       "EJECTION                 0\n",
       "COMPLAINT                0\n",
       "EMOTIONAL_STATUS         0\n",
       "VEHICLE_ID               0\n",
       "PERSON_ID                0\n",
       "CONTRIBUTING_FACTOR_1    0\n",
       "POSITION_IN_VEHICLE      0\n",
       "PED_ROLE                 0\n",
       "UNIQUE_ID                0\n",
       "PED_ACTION               0\n",
       "COLLISION_ID             0\n",
       "dtype: int64"
      ]
     },
     "execution_count": 270,
     "metadata": {},
     "output_type": "execute_result"
    }
   ],
   "source": [
    "joy.isnull().sum()"
   ]
  },
  {
   "cell_type": "markdown",
   "id": "c0c55f71-2b05-4ffb-9087-d0d0a24059f6",
   "metadata": {},
   "source": [
    "### kita memakai modus untuk menghapus dan kita panggil label/atribut yang memiliki nilai null, setelah itu kita tampilkan datanya lagi dan hasilnya data null telah hilang"
   ]
  },
  {
   "cell_type": "markdown",
   "id": "e9f78e49-81a1-4cfa-932e-a3b94175c85d",
   "metadata": {},
   "source": [
    "# Ganti tipe data salah satu attribute angka"
   ]
  },
  {
   "cell_type": "code",
   "execution_count": 271,
   "id": "0dc562f2-04ee-4ad8-b8b5-8aa575d05f1a",
   "metadata": {},
   "outputs": [],
   "source": [
    "joy1['PERSON_AGE'] = joy1['PERSON_AGE'].astype(object)"
   ]
  },
  {
   "cell_type": "code",
   "execution_count": 272,
   "id": "a5d3c7cd-bfe3-4b60-8ec8-39f3dc44b7f0",
   "metadata": {},
   "outputs": [
    {
     "data": {
      "text/plain": [
       "CRASH_DATE                object\n",
       "CRASH_TIME                object\n",
       "PERSON_INJURY             object\n",
       "PERSON_AGE                object\n",
       "BODILY_INJURY             object\n",
       "SAFETY_EQUIPMENT          object\n",
       "PERSON_SEX                object\n",
       "PERSON_TYPE               object\n",
       "PED_LOCATION              object\n",
       "CONTRIBUTING_FACTOR_2     object\n",
       "EJECTION                  object\n",
       "COMPLAINT                 object\n",
       "EMOTIONAL_STATUS          object\n",
       "VEHICLE_ID               float64\n",
       "PERSON_ID                 object\n",
       "CONTRIBUTING_FACTOR_1     object\n",
       "POSITION_IN_VEHICLE       object\n",
       "PED_ROLE                  object\n",
       "UNIQUE_ID                float64\n",
       "PED_ACTION                object\n",
       "COLLISION_ID             float64\n",
       "dtype: object"
      ]
     },
     "execution_count": 272,
     "metadata": {},
     "output_type": "execute_result"
    }
   ],
   "source": [
    "joy1.dtypes"
   ]
  },
  {
   "cell_type": "markdown",
   "id": "e47f6b2d-7136-4519-8304-2992c78913dd",
   "metadata": {},
   "source": [
    "### kita menganti tipe data \"Person_Age\" dari float64 menjadi object"
   ]
  },
  {
   "cell_type": "markdown",
   "id": "1b3ca41a-92b0-4d19-b649-73f8684ab770",
   "metadata": {},
   "source": [
    "# One Hot Encoding"
   ]
  },
  {
   "cell_type": "code",
   "execution_count": 273,
   "id": "ce6ded4e-eee4-422a-9b3f-fab9d91bb05e",
   "metadata": {},
   "outputs": [],
   "source": [
    "joy2 = pd.read_csv('NYC_Motor_Vehicle_Collisions_to_Person-Copy2.csv')"
   ]
  },
  {
   "cell_type": "markdown",
   "id": "22e1949b-6fef-45ab-ac07-f05b9e74e248",
   "metadata": {},
   "source": [
    "### kita ambil csv nya untuk keperluan data preprocessing"
   ]
  },
  {
   "cell_type": "code",
   "execution_count": 274,
   "id": "8686ee13-15c5-4d38-9653-c960239789ed",
   "metadata": {},
   "outputs": [
    {
     "data": {
      "text/html": [
       "<div>\n",
       "<style scoped>\n",
       "    .dataframe tbody tr th:only-of-type {\n",
       "        vertical-align: middle;\n",
       "    }\n",
       "\n",
       "    .dataframe tbody tr th {\n",
       "        vertical-align: top;\n",
       "    }\n",
       "\n",
       "    .dataframe thead th {\n",
       "        text-align: right;\n",
       "    }\n",
       "</style>\n",
       "<table border=\"1\" class=\"dataframe\">\n",
       "  <thead>\n",
       "    <tr style=\"text-align: right;\">\n",
       "      <th></th>\n",
       "      <th>PERSON_INJURY</th>\n",
       "      <th>BODILY_INJURY</th>\n",
       "      <th>PERSON_SEX</th>\n",
       "    </tr>\n",
       "  </thead>\n",
       "  <tbody>\n",
       "    <tr>\n",
       "      <th>0</th>\n",
       "      <td>Killed</td>\n",
       "      <td>Head</td>\n",
       "      <td>F</td>\n",
       "    </tr>\n",
       "    <tr>\n",
       "      <th>1</th>\n",
       "      <td>Killed</td>\n",
       "      <td>Entire Body</td>\n",
       "      <td>M</td>\n",
       "    </tr>\n",
       "    <tr>\n",
       "      <th>2</th>\n",
       "      <td>Killed</td>\n",
       "      <td>Head</td>\n",
       "      <td>M</td>\n",
       "    </tr>\n",
       "    <tr>\n",
       "      <th>3</th>\n",
       "      <td>Killed</td>\n",
       "      <td>Head</td>\n",
       "      <td>M</td>\n",
       "    </tr>\n",
       "    <tr>\n",
       "      <th>4</th>\n",
       "      <td>Killed</td>\n",
       "      <td>Entire Body</td>\n",
       "      <td>F</td>\n",
       "    </tr>\n",
       "    <tr>\n",
       "      <th>...</th>\n",
       "      <td>...</td>\n",
       "      <td>...</td>\n",
       "      <td>...</td>\n",
       "    </tr>\n",
       "    <tr>\n",
       "      <th>45664</th>\n",
       "      <td>Injured</td>\n",
       "      <td>Back</td>\n",
       "      <td>M</td>\n",
       "    </tr>\n",
       "    <tr>\n",
       "      <th>45665</th>\n",
       "      <td>Injured</td>\n",
       "      <td>Knee-Lower Leg Foot</td>\n",
       "      <td>M</td>\n",
       "    </tr>\n",
       "    <tr>\n",
       "      <th>45666</th>\n",
       "      <td>Injured</td>\n",
       "      <td>Head</td>\n",
       "      <td>F</td>\n",
       "    </tr>\n",
       "    <tr>\n",
       "      <th>45667</th>\n",
       "      <td>Injured</td>\n",
       "      <td>Elbow-Lower-Arm-Hand</td>\n",
       "      <td>F</td>\n",
       "    </tr>\n",
       "    <tr>\n",
       "      <th>45668</th>\n",
       "      <td>Injured</td>\n",
       "      <td>Shoulder - Upper Arm</td>\n",
       "      <td>M</td>\n",
       "    </tr>\n",
       "  </tbody>\n",
       "</table>\n",
       "<p>45669 rows × 3 columns</p>\n",
       "</div>"
      ],
      "text/plain": [
       "      PERSON_INJURY         BODILY_INJURY PERSON_SEX\n",
       "0            Killed                  Head          F\n",
       "1            Killed           Entire Body          M\n",
       "2            Killed                  Head          M\n",
       "3            Killed                  Head          M\n",
       "4            Killed           Entire Body          F\n",
       "...             ...                   ...        ...\n",
       "45664       Injured                  Back          M\n",
       "45665       Injured   Knee-Lower Leg Foot          M\n",
       "45666       Injured                  Head          F\n",
       "45667       Injured  Elbow-Lower-Arm-Hand          F\n",
       "45668       Injured  Shoulder - Upper Arm          M\n",
       "\n",
       "[45669 rows x 3 columns]"
      ]
     },
     "execution_count": 274,
     "metadata": {},
     "output_type": "execute_result"
    }
   ],
   "source": [
    "joy2[['PERSON_INJURY', 'BODILY_INJURY', 'PERSON_SEX']]"
   ]
  },
  {
   "cell_type": "code",
   "execution_count": 275,
   "id": "77837448-c068-42ca-a51c-0ebeb46a80c9",
   "metadata": {},
   "outputs": [],
   "source": [
    "hot_joy = OneHotEncoder(sparse_output=False)\n",
    "encoded_joy = hot_joy.fit_transform(joy2[['PERSON_INJURY', 'PERSON_SEX']])"
   ]
  },
  {
   "cell_type": "code",
   "execution_count": 276,
   "id": "0a99cd49-16ce-4493-822e-2b2b8dbf04fd",
   "metadata": {},
   "outputs": [
    {
     "data": {
      "text/html": [
       "<div>\n",
       "<style scoped>\n",
       "    .dataframe tbody tr th:only-of-type {\n",
       "        vertical-align: middle;\n",
       "    }\n",
       "\n",
       "    .dataframe tbody tr th {\n",
       "        vertical-align: top;\n",
       "    }\n",
       "\n",
       "    .dataframe thead th {\n",
       "        text-align: right;\n",
       "    }\n",
       "</style>\n",
       "<table border=\"1\" class=\"dataframe\">\n",
       "  <thead>\n",
       "    <tr style=\"text-align: right;\">\n",
       "      <th></th>\n",
       "      <th>Killed</th>\n",
       "      <th>Injured</th>\n",
       "      <th>M</th>\n",
       "      <th>F</th>\n",
       "      <th>U</th>\n",
       "    </tr>\n",
       "  </thead>\n",
       "  <tbody>\n",
       "    <tr>\n",
       "      <th>0</th>\n",
       "      <td>0.0</td>\n",
       "      <td>1.0</td>\n",
       "      <td>1.0</td>\n",
       "      <td>0.0</td>\n",
       "      <td>0.0</td>\n",
       "    </tr>\n",
       "    <tr>\n",
       "      <th>1</th>\n",
       "      <td>0.0</td>\n",
       "      <td>1.0</td>\n",
       "      <td>0.0</td>\n",
       "      <td>1.0</td>\n",
       "      <td>0.0</td>\n",
       "    </tr>\n",
       "    <tr>\n",
       "      <th>2</th>\n",
       "      <td>0.0</td>\n",
       "      <td>1.0</td>\n",
       "      <td>0.0</td>\n",
       "      <td>1.0</td>\n",
       "      <td>0.0</td>\n",
       "    </tr>\n",
       "    <tr>\n",
       "      <th>3</th>\n",
       "      <td>0.0</td>\n",
       "      <td>1.0</td>\n",
       "      <td>0.0</td>\n",
       "      <td>1.0</td>\n",
       "      <td>0.0</td>\n",
       "    </tr>\n",
       "    <tr>\n",
       "      <th>4</th>\n",
       "      <td>0.0</td>\n",
       "      <td>1.0</td>\n",
       "      <td>1.0</td>\n",
       "      <td>0.0</td>\n",
       "      <td>0.0</td>\n",
       "    </tr>\n",
       "    <tr>\n",
       "      <th>...</th>\n",
       "      <td>...</td>\n",
       "      <td>...</td>\n",
       "      <td>...</td>\n",
       "      <td>...</td>\n",
       "      <td>...</td>\n",
       "    </tr>\n",
       "    <tr>\n",
       "      <th>45664</th>\n",
       "      <td>1.0</td>\n",
       "      <td>0.0</td>\n",
       "      <td>0.0</td>\n",
       "      <td>1.0</td>\n",
       "      <td>0.0</td>\n",
       "    </tr>\n",
       "    <tr>\n",
       "      <th>45665</th>\n",
       "      <td>1.0</td>\n",
       "      <td>0.0</td>\n",
       "      <td>0.0</td>\n",
       "      <td>1.0</td>\n",
       "      <td>0.0</td>\n",
       "    </tr>\n",
       "    <tr>\n",
       "      <th>45666</th>\n",
       "      <td>1.0</td>\n",
       "      <td>0.0</td>\n",
       "      <td>1.0</td>\n",
       "      <td>0.0</td>\n",
       "      <td>0.0</td>\n",
       "    </tr>\n",
       "    <tr>\n",
       "      <th>45667</th>\n",
       "      <td>1.0</td>\n",
       "      <td>0.0</td>\n",
       "      <td>1.0</td>\n",
       "      <td>0.0</td>\n",
       "      <td>0.0</td>\n",
       "    </tr>\n",
       "    <tr>\n",
       "      <th>45668</th>\n",
       "      <td>1.0</td>\n",
       "      <td>0.0</td>\n",
       "      <td>0.0</td>\n",
       "      <td>1.0</td>\n",
       "      <td>0.0</td>\n",
       "    </tr>\n",
       "  </tbody>\n",
       "</table>\n",
       "<p>45669 rows × 5 columns</p>\n",
       "</div>"
      ],
      "text/plain": [
       "       Killed  Injured    M    F    U\n",
       "0         0.0      1.0  1.0  0.0  0.0\n",
       "1         0.0      1.0  0.0  1.0  0.0\n",
       "2         0.0      1.0  0.0  1.0  0.0\n",
       "3         0.0      1.0  0.0  1.0  0.0\n",
       "4         0.0      1.0  1.0  0.0  0.0\n",
       "...       ...      ...  ...  ...  ...\n",
       "45664     1.0      0.0  0.0  1.0  0.0\n",
       "45665     1.0      0.0  0.0  1.0  0.0\n",
       "45666     1.0      0.0  1.0  0.0  0.0\n",
       "45667     1.0      0.0  1.0  0.0  0.0\n",
       "45668     1.0      0.0  0.0  1.0  0.0\n",
       "\n",
       "[45669 rows x 5 columns]"
      ]
     },
     "execution_count": 276,
     "metadata": {},
     "output_type": "execute_result"
    }
   ],
   "source": [
    "encoded = pd.DataFrame(encoded_joy, \n",
    "                       columns=['Killed', 'Injured', 'M', 'F', 'U'])\n",
    "encoded"
   ]
  },
  {
   "cell_type": "markdown",
   "id": "f371a971-08fc-4a5f-aeca-b5cbdd753bba",
   "metadata": {},
   "source": [
    "### kita cari label/atribut untuk menjadi bahan praktek OneHot Encoding, lalu kita tampilkan kolomnya"
   ]
  },
  {
   "cell_type": "code",
   "execution_count": 277,
   "id": "8806a04f-c490-452a-abc7-ea9bae0d5b02",
   "metadata": {},
   "outputs": [
    {
     "data": {
      "text/html": [
       "<div>\n",
       "<style scoped>\n",
       "    .dataframe tbody tr th:only-of-type {\n",
       "        vertical-align: middle;\n",
       "    }\n",
       "\n",
       "    .dataframe tbody tr th {\n",
       "        vertical-align: top;\n",
       "    }\n",
       "\n",
       "    .dataframe thead th {\n",
       "        text-align: right;\n",
       "    }\n",
       "</style>\n",
       "<table border=\"1\" class=\"dataframe\">\n",
       "  <thead>\n",
       "    <tr style=\"text-align: right;\">\n",
       "      <th></th>\n",
       "      <th>CRASH_DATE</th>\n",
       "      <th>CRASH_TIME</th>\n",
       "      <th>PERSON_INJURY</th>\n",
       "      <th>PERSON_AGE</th>\n",
       "      <th>BODILY_INJURY</th>\n",
       "      <th>SAFETY_EQUIPMENT</th>\n",
       "      <th>PERSON_SEX</th>\n",
       "      <th>PERSON_TYPE</th>\n",
       "      <th>PED_LOCATION</th>\n",
       "      <th>CONTRIBUTING_FACTOR_2</th>\n",
       "      <th>...</th>\n",
       "      <th>POSITION_IN_VEHICLE</th>\n",
       "      <th>PED_ROLE</th>\n",
       "      <th>UNIQUE_ID</th>\n",
       "      <th>PED_ACTION</th>\n",
       "      <th>COLLISION_ID</th>\n",
       "      <th>Killed</th>\n",
       "      <th>Injured</th>\n",
       "      <th>M</th>\n",
       "      <th>F</th>\n",
       "      <th>U</th>\n",
       "    </tr>\n",
       "  </thead>\n",
       "  <tbody>\n",
       "    <tr>\n",
       "      <th>0</th>\n",
       "      <td>2021-05-02</td>\n",
       "      <td>21:00</td>\n",
       "      <td>Killed</td>\n",
       "      <td>62.0</td>\n",
       "      <td>Head</td>\n",
       "      <td>NaN</td>\n",
       "      <td>F</td>\n",
       "      <td>Pedestrian</td>\n",
       "      <td>Pedestrian/Bicyclist/Other Pedestrian at Inter...</td>\n",
       "      <td>Pedestrian/Bicyclist/Other Pedestrian Error/Co...</td>\n",
       "      <td>...</td>\n",
       "      <td>NaN</td>\n",
       "      <td>Pedestrian</td>\n",
       "      <td>11791937</td>\n",
       "      <td>Crossing Against Signal</td>\n",
       "      <td>4412948</td>\n",
       "      <td>0.0</td>\n",
       "      <td>1.0</td>\n",
       "      <td>1.0</td>\n",
       "      <td>0.0</td>\n",
       "      <td>0.0</td>\n",
       "    </tr>\n",
       "    <tr>\n",
       "      <th>1</th>\n",
       "      <td>2021-05-21</td>\n",
       "      <td>0:00</td>\n",
       "      <td>Killed</td>\n",
       "      <td>24.0</td>\n",
       "      <td>Entire Body</td>\n",
       "      <td>Air Bag Deployed</td>\n",
       "      <td>M</td>\n",
       "      <td>Occupant</td>\n",
       "      <td>NaN</td>\n",
       "      <td>NaN</td>\n",
       "      <td>...</td>\n",
       "      <td>Driver</td>\n",
       "      <td>Driver</td>\n",
       "      <td>11819198</td>\n",
       "      <td>NaN</td>\n",
       "      <td>4419608</td>\n",
       "      <td>0.0</td>\n",
       "      <td>1.0</td>\n",
       "      <td>0.0</td>\n",
       "      <td>1.0</td>\n",
       "      <td>0.0</td>\n",
       "    </tr>\n",
       "    <tr>\n",
       "      <th>2</th>\n",
       "      <td>2021-10-15</td>\n",
       "      <td>2:00</td>\n",
       "      <td>Killed</td>\n",
       "      <td>30.0</td>\n",
       "      <td>Head</td>\n",
       "      <td>None</td>\n",
       "      <td>M</td>\n",
       "      <td>Occupant</td>\n",
       "      <td>NaN</td>\n",
       "      <td>NaN</td>\n",
       "      <td>...</td>\n",
       "      <td>Driver</td>\n",
       "      <td>Driver</td>\n",
       "      <td>11998317</td>\n",
       "      <td>NaN</td>\n",
       "      <td>4467504</td>\n",
       "      <td>0.0</td>\n",
       "      <td>1.0</td>\n",
       "      <td>0.0</td>\n",
       "      <td>1.0</td>\n",
       "      <td>0.0</td>\n",
       "    </tr>\n",
       "    <tr>\n",
       "      <th>3</th>\n",
       "      <td>2021-04-17</td>\n",
       "      <td>13:00</td>\n",
       "      <td>Killed</td>\n",
       "      <td>71.0</td>\n",
       "      <td>Head</td>\n",
       "      <td>NaN</td>\n",
       "      <td>M</td>\n",
       "      <td>Pedestrian</td>\n",
       "      <td>Pedestrian/Bicyclist/Other Pedestrian Not at I...</td>\n",
       "      <td>Unspecified</td>\n",
       "      <td>...</td>\n",
       "      <td>NaN</td>\n",
       "      <td>Pedestrian</td>\n",
       "      <td>11745791</td>\n",
       "      <td>Crossing, No Signal, or Crosswalk</td>\n",
       "      <td>4408062</td>\n",
       "      <td>0.0</td>\n",
       "      <td>1.0</td>\n",
       "      <td>0.0</td>\n",
       "      <td>1.0</td>\n",
       "      <td>0.0</td>\n",
       "    </tr>\n",
       "    <tr>\n",
       "      <th>4</th>\n",
       "      <td>2021-05-25</td>\n",
       "      <td>22:00</td>\n",
       "      <td>Killed</td>\n",
       "      <td>69.0</td>\n",
       "      <td>Entire Body</td>\n",
       "      <td>NaN</td>\n",
       "      <td>F</td>\n",
       "      <td>Pedestrian</td>\n",
       "      <td>Pedestrian/Bicyclist/Other Pedestrian Not at I...</td>\n",
       "      <td>Unspecified</td>\n",
       "      <td>...</td>\n",
       "      <td>NaN</td>\n",
       "      <td>Pedestrian</td>\n",
       "      <td>11991283</td>\n",
       "      <td>Crossing, No Signal, Marked Crosswalk</td>\n",
       "      <td>4420918</td>\n",
       "      <td>0.0</td>\n",
       "      <td>1.0</td>\n",
       "      <td>1.0</td>\n",
       "      <td>0.0</td>\n",
       "      <td>0.0</td>\n",
       "    </tr>\n",
       "  </tbody>\n",
       "</table>\n",
       "<p>5 rows × 26 columns</p>\n",
       "</div>"
      ],
      "text/plain": [
       "   CRASH_DATE CRASH_TIME PERSON_INJURY  PERSON_AGE BODILY_INJURY  \\\n",
       "0  2021-05-02      21:00        Killed        62.0          Head   \n",
       "1  2021-05-21       0:00        Killed        24.0   Entire Body   \n",
       "2  2021-10-15       2:00        Killed        30.0          Head   \n",
       "3  2021-04-17      13:00        Killed        71.0          Head   \n",
       "4  2021-05-25      22:00        Killed        69.0   Entire Body   \n",
       "\n",
       "   SAFETY_EQUIPMENT PERSON_SEX PERSON_TYPE  \\\n",
       "0               NaN          F  Pedestrian   \n",
       "1  Air Bag Deployed          M    Occupant   \n",
       "2              None          M    Occupant   \n",
       "3               NaN          M  Pedestrian   \n",
       "4               NaN          F  Pedestrian   \n",
       "\n",
       "                                        PED_LOCATION  \\\n",
       "0  Pedestrian/Bicyclist/Other Pedestrian at Inter...   \n",
       "1                                                NaN   \n",
       "2                                                NaN   \n",
       "3  Pedestrian/Bicyclist/Other Pedestrian Not at I...   \n",
       "4  Pedestrian/Bicyclist/Other Pedestrian Not at I...   \n",
       "\n",
       "                               CONTRIBUTING_FACTOR_2  ... POSITION_IN_VEHICLE  \\\n",
       "0  Pedestrian/Bicyclist/Other Pedestrian Error/Co...  ...                 NaN   \n",
       "1                                                NaN  ...              Driver   \n",
       "2                                                NaN  ...              Driver   \n",
       "3                                        Unspecified  ...                 NaN   \n",
       "4                                        Unspecified  ...                 NaN   \n",
       "\n",
       "     PED_ROLE UNIQUE_ID                             PED_ACTION COLLISION_ID  \\\n",
       "0  Pedestrian  11791937                Crossing Against Signal      4412948   \n",
       "1      Driver  11819198                                    NaN      4419608   \n",
       "2      Driver  11998317                                    NaN      4467504   \n",
       "3  Pedestrian  11745791      Crossing, No Signal, or Crosswalk      4408062   \n",
       "4  Pedestrian  11991283  Crossing, No Signal, Marked Crosswalk      4420918   \n",
       "\n",
       "  Killed Injured    M    F    U  \n",
       "0    0.0     1.0  1.0  0.0  0.0  \n",
       "1    0.0     1.0  0.0  1.0  0.0  \n",
       "2    0.0     1.0  0.0  1.0  0.0  \n",
       "3    0.0     1.0  0.0  1.0  0.0  \n",
       "4    0.0     1.0  1.0  0.0  0.0  \n",
       "\n",
       "[5 rows x 26 columns]"
      ]
     },
     "execution_count": 277,
     "metadata": {},
     "output_type": "execute_result"
    }
   ],
   "source": [
    "joy2 = pd.concat([joy2, encoded], axis=1)\n",
    "joy2.head()"
   ]
  },
  {
   "cell_type": "code",
   "execution_count": 278,
   "id": "b45999ba-cae7-4b3f-ada5-fbe15f53674d",
   "metadata": {},
   "outputs": [],
   "source": [
    "joy_dummies = pd.get_dummies(joy2[['PERSON_INJURY', 'PERSON_SEX']]).replace(False, 0).replace(True, 1)"
   ]
  },
  {
   "cell_type": "code",
   "execution_count": 279,
   "id": "870e14e6-673c-4cc1-9aff-1e394a95b031",
   "metadata": {},
   "outputs": [],
   "source": [
    "joy2 = pd.concat([joy2, joy_dummies], axis=1)"
   ]
  },
  {
   "cell_type": "code",
   "execution_count": 280,
   "id": "2d20a3ad-dbc3-42e5-89b7-10c1fd64ff9c",
   "metadata": {},
   "outputs": [
    {
     "data": {
      "text/html": [
       "<div>\n",
       "<style scoped>\n",
       "    .dataframe tbody tr th:only-of-type {\n",
       "        vertical-align: middle;\n",
       "    }\n",
       "\n",
       "    .dataframe tbody tr th {\n",
       "        vertical-align: top;\n",
       "    }\n",
       "\n",
       "    .dataframe thead th {\n",
       "        text-align: right;\n",
       "    }\n",
       "</style>\n",
       "<table border=\"1\" class=\"dataframe\">\n",
       "  <thead>\n",
       "    <tr style=\"text-align: right;\">\n",
       "      <th></th>\n",
       "      <th>CRASH_DATE</th>\n",
       "      <th>CRASH_TIME</th>\n",
       "      <th>PERSON_AGE</th>\n",
       "      <th>BODILY_INJURY</th>\n",
       "      <th>SAFETY_EQUIPMENT</th>\n",
       "      <th>PERSON_TYPE</th>\n",
       "      <th>PED_LOCATION</th>\n",
       "      <th>CONTRIBUTING_FACTOR_2</th>\n",
       "      <th>EJECTION</th>\n",
       "      <th>COMPLAINT</th>\n",
       "      <th>...</th>\n",
       "      <th>Killed</th>\n",
       "      <th>Injured</th>\n",
       "      <th>M</th>\n",
       "      <th>F</th>\n",
       "      <th>U</th>\n",
       "      <th>PERSON_INJURY_Injured</th>\n",
       "      <th>PERSON_INJURY_Killed</th>\n",
       "      <th>PERSON_SEX_F</th>\n",
       "      <th>PERSON_SEX_M</th>\n",
       "      <th>PERSON_SEX_U</th>\n",
       "    </tr>\n",
       "  </thead>\n",
       "  <tbody>\n",
       "    <tr>\n",
       "      <th>0</th>\n",
       "      <td>2021-05-02</td>\n",
       "      <td>21:00</td>\n",
       "      <td>62.0</td>\n",
       "      <td>Head</td>\n",
       "      <td>NaN</td>\n",
       "      <td>Pedestrian</td>\n",
       "      <td>Pedestrian/Bicyclist/Other Pedestrian at Inter...</td>\n",
       "      <td>Pedestrian/Bicyclist/Other Pedestrian Error/Co...</td>\n",
       "      <td>NaN</td>\n",
       "      <td>Severe Bleeding</td>\n",
       "      <td>...</td>\n",
       "      <td>0.0</td>\n",
       "      <td>1.0</td>\n",
       "      <td>1.0</td>\n",
       "      <td>0.0</td>\n",
       "      <td>0.0</td>\n",
       "      <td>0</td>\n",
       "      <td>1</td>\n",
       "      <td>1</td>\n",
       "      <td>0</td>\n",
       "      <td>0</td>\n",
       "    </tr>\n",
       "    <tr>\n",
       "      <th>1</th>\n",
       "      <td>2021-05-21</td>\n",
       "      <td>0:00</td>\n",
       "      <td>24.0</td>\n",
       "      <td>Entire Body</td>\n",
       "      <td>Air Bag Deployed</td>\n",
       "      <td>Occupant</td>\n",
       "      <td>NaN</td>\n",
       "      <td>NaN</td>\n",
       "      <td>Trapped</td>\n",
       "      <td>Internal</td>\n",
       "      <td>...</td>\n",
       "      <td>0.0</td>\n",
       "      <td>1.0</td>\n",
       "      <td>0.0</td>\n",
       "      <td>1.0</td>\n",
       "      <td>0.0</td>\n",
       "      <td>0</td>\n",
       "      <td>1</td>\n",
       "      <td>0</td>\n",
       "      <td>1</td>\n",
       "      <td>0</td>\n",
       "    </tr>\n",
       "    <tr>\n",
       "      <th>2</th>\n",
       "      <td>2021-10-15</td>\n",
       "      <td>2:00</td>\n",
       "      <td>30.0</td>\n",
       "      <td>Head</td>\n",
       "      <td>None</td>\n",
       "      <td>Occupant</td>\n",
       "      <td>NaN</td>\n",
       "      <td>NaN</td>\n",
       "      <td>Not Ejected</td>\n",
       "      <td>Internal</td>\n",
       "      <td>...</td>\n",
       "      <td>0.0</td>\n",
       "      <td>1.0</td>\n",
       "      <td>0.0</td>\n",
       "      <td>1.0</td>\n",
       "      <td>0.0</td>\n",
       "      <td>0</td>\n",
       "      <td>1</td>\n",
       "      <td>0</td>\n",
       "      <td>1</td>\n",
       "      <td>0</td>\n",
       "    </tr>\n",
       "    <tr>\n",
       "      <th>3</th>\n",
       "      <td>2021-04-17</td>\n",
       "      <td>13:00</td>\n",
       "      <td>71.0</td>\n",
       "      <td>Head</td>\n",
       "      <td>NaN</td>\n",
       "      <td>Pedestrian</td>\n",
       "      <td>Pedestrian/Bicyclist/Other Pedestrian Not at I...</td>\n",
       "      <td>Unspecified</td>\n",
       "      <td>NaN</td>\n",
       "      <td>Internal</td>\n",
       "      <td>...</td>\n",
       "      <td>0.0</td>\n",
       "      <td>1.0</td>\n",
       "      <td>0.0</td>\n",
       "      <td>1.0</td>\n",
       "      <td>0.0</td>\n",
       "      <td>0</td>\n",
       "      <td>1</td>\n",
       "      <td>0</td>\n",
       "      <td>1</td>\n",
       "      <td>0</td>\n",
       "    </tr>\n",
       "    <tr>\n",
       "      <th>4</th>\n",
       "      <td>2021-05-25</td>\n",
       "      <td>22:00</td>\n",
       "      <td>69.0</td>\n",
       "      <td>Entire Body</td>\n",
       "      <td>NaN</td>\n",
       "      <td>Pedestrian</td>\n",
       "      <td>Pedestrian/Bicyclist/Other Pedestrian Not at I...</td>\n",
       "      <td>Unspecified</td>\n",
       "      <td>NaN</td>\n",
       "      <td>None Visible</td>\n",
       "      <td>...</td>\n",
       "      <td>0.0</td>\n",
       "      <td>1.0</td>\n",
       "      <td>1.0</td>\n",
       "      <td>0.0</td>\n",
       "      <td>0.0</td>\n",
       "      <td>0</td>\n",
       "      <td>1</td>\n",
       "      <td>1</td>\n",
       "      <td>0</td>\n",
       "      <td>0</td>\n",
       "    </tr>\n",
       "  </tbody>\n",
       "</table>\n",
       "<p>5 rows × 29 columns</p>\n",
       "</div>"
      ],
      "text/plain": [
       "   CRASH_DATE CRASH_TIME  PERSON_AGE BODILY_INJURY  SAFETY_EQUIPMENT  \\\n",
       "0  2021-05-02      21:00        62.0          Head               NaN   \n",
       "1  2021-05-21       0:00        24.0   Entire Body  Air Bag Deployed   \n",
       "2  2021-10-15       2:00        30.0          Head              None   \n",
       "3  2021-04-17      13:00        71.0          Head               NaN   \n",
       "4  2021-05-25      22:00        69.0   Entire Body               NaN   \n",
       "\n",
       "  PERSON_TYPE                                       PED_LOCATION  \\\n",
       "0  Pedestrian  Pedestrian/Bicyclist/Other Pedestrian at Inter...   \n",
       "1    Occupant                                                NaN   \n",
       "2    Occupant                                                NaN   \n",
       "3  Pedestrian  Pedestrian/Bicyclist/Other Pedestrian Not at I...   \n",
       "4  Pedestrian  Pedestrian/Bicyclist/Other Pedestrian Not at I...   \n",
       "\n",
       "                               CONTRIBUTING_FACTOR_2     EJECTION  \\\n",
       "0  Pedestrian/Bicyclist/Other Pedestrian Error/Co...          NaN   \n",
       "1                                                NaN      Trapped   \n",
       "2                                                NaN  Not Ejected   \n",
       "3                                        Unspecified          NaN   \n",
       "4                                        Unspecified          NaN   \n",
       "\n",
       "         COMPLAINT  ... Killed  Injured    M    F    U PERSON_INJURY_Injured  \\\n",
       "0  Severe Bleeding  ...    0.0      1.0  1.0  0.0  0.0                     0   \n",
       "1         Internal  ...    0.0      1.0  0.0  1.0  0.0                     0   \n",
       "2         Internal  ...    0.0      1.0  0.0  1.0  0.0                     0   \n",
       "3         Internal  ...    0.0      1.0  0.0  1.0  0.0                     0   \n",
       "4     None Visible  ...    0.0      1.0  1.0  0.0  0.0                     0   \n",
       "\n",
       "   PERSON_INJURY_Killed PERSON_SEX_F  PERSON_SEX_M  PERSON_SEX_U  \n",
       "0                     1            1             0             0  \n",
       "1                     1            0             1             0  \n",
       "2                     1            0             1             0  \n",
       "3                     1            0             1             0  \n",
       "4                     1            1             0             0  \n",
       "\n",
       "[5 rows x 29 columns]"
      ]
     },
     "execution_count": 280,
     "metadata": {},
     "output_type": "execute_result"
    }
   ],
   "source": [
    "joy2.drop(columns=['PERSON_INJURY', 'PERSON_SEX'], inplace=True)\n",
    "joy2.head()"
   ]
  },
  {
   "cell_type": "markdown",
   "id": "abf606ae-4f54-4ffe-9644-471cc8501409",
   "metadata": {},
   "source": [
    "### lalu kita gabungkan data asli dengan data hasil onehot encoding, .Kita juga dapat menggunakan get_dummies dari Pandas untuk menerapkan one-hot encoding. lalu kita tampilkan lagi datanyag"
   ]
  }
 ],
 "metadata": {
  "kernelspec": {
   "display_name": "joy_014",
   "language": "python",
   "name": "joy_014"
  },
  "language_info": {
   "codemirror_mode": {
    "name": "ipython",
    "version": 3
   },
   "file_extension": ".py",
   "mimetype": "text/x-python",
   "name": "python",
   "nbconvert_exporter": "python",
   "pygments_lexer": "ipython3",
   "version": "3.10.7"
  }
 },
 "nbformat": 4,
 "nbformat_minor": 5
}
