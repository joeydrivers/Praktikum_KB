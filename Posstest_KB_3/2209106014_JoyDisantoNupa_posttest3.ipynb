{
 "cells": [
  {
   "cell_type": "markdown",
   "id": "04d2db5f-5042-4257-b829-aedd922ca96d",
   "metadata": {},
   "source": [
    "# NAMA: JOY DISANTO NUPA\n",
    "# NIM: 2209106014\n",
    "# Kelas: A1 INFORMATIKA 2022"
   ]
  },
  {
   "cell_type": "code",
   "execution_count": 105,
   "id": "64c4cb60-2e3a-4f30-95ee-a11db40db0a8",
   "metadata": {},
   "outputs": [
    {
     "data": {
      "text/html": [
       "<div>\n",
       "<style scoped>\n",
       "    .dataframe tbody tr th:only-of-type {\n",
       "        vertical-align: middle;\n",
       "    }\n",
       "\n",
       "    .dataframe tbody tr th {\n",
       "        vertical-align: top;\n",
       "    }\n",
       "\n",
       "    .dataframe thead th {\n",
       "        text-align: right;\n",
       "    }\n",
       "</style>\n",
       "<table border=\"1\" class=\"dataframe\">\n",
       "  <thead>\n",
       "    <tr style=\"text-align: right;\">\n",
       "      <th></th>\n",
       "      <th>CRASH_DATE</th>\n",
       "      <th>CRASH_TIME</th>\n",
       "      <th>PERSON_INJURY</th>\n",
       "      <th>PERSON_AGE</th>\n",
       "      <th>BODILY_INJURY</th>\n",
       "      <th>SAFETY_EQUIPMENT</th>\n",
       "      <th>PERSON_SEX</th>\n",
       "      <th>PERSON_TYPE</th>\n",
       "      <th>PED_LOCATION</th>\n",
       "      <th>CONTRIBUTING_FACTOR_2</th>\n",
       "      <th>...</th>\n",
       "      <th>COMPLAINT</th>\n",
       "      <th>EMOTIONAL_STATUS</th>\n",
       "      <th>VEHICLE_ID</th>\n",
       "      <th>PERSON_ID</th>\n",
       "      <th>CONTRIBUTING_FACTOR_1</th>\n",
       "      <th>POSITION_IN_VEHICLE</th>\n",
       "      <th>PED_ROLE</th>\n",
       "      <th>UNIQUE_ID</th>\n",
       "      <th>PED_ACTION</th>\n",
       "      <th>COLLISION_ID</th>\n",
       "    </tr>\n",
       "  </thead>\n",
       "  <tbody>\n",
       "    <tr>\n",
       "      <th>0</th>\n",
       "      <td>2021-05-02</td>\n",
       "      <td>21:00</td>\n",
       "      <td>Killed</td>\n",
       "      <td>62.0</td>\n",
       "      <td>Head</td>\n",
       "      <td>NaN</td>\n",
       "      <td>F</td>\n",
       "      <td>Pedestrian</td>\n",
       "      <td>Pedestrian/Bicyclist/Other Pedestrian at Inter...</td>\n",
       "      <td>Pedestrian/Bicyclist/Other Pedestrian Error/Co...</td>\n",
       "      <td>...</td>\n",
       "      <td>Severe Bleeding</td>\n",
       "      <td>Apparent Death</td>\n",
       "      <td>NaN</td>\n",
       "      <td>f2f329b6-2dfc-4bd0-b751-2e4255f1ea06</td>\n",
       "      <td>Traffic Control Disregarded</td>\n",
       "      <td>NaN</td>\n",
       "      <td>Pedestrian</td>\n",
       "      <td>11791937</td>\n",
       "      <td>Crossing Against Signal</td>\n",
       "      <td>4412948</td>\n",
       "    </tr>\n",
       "    <tr>\n",
       "      <th>1</th>\n",
       "      <td>2021-05-21</td>\n",
       "      <td>0:00</td>\n",
       "      <td>Killed</td>\n",
       "      <td>24.0</td>\n",
       "      <td>Entire Body</td>\n",
       "      <td>Air Bag Deployed</td>\n",
       "      <td>M</td>\n",
       "      <td>Occupant</td>\n",
       "      <td>NaN</td>\n",
       "      <td>NaN</td>\n",
       "      <td>...</td>\n",
       "      <td>Internal</td>\n",
       "      <td>Apparent Death</td>\n",
       "      <td>19986231.0</td>\n",
       "      <td>e27e12a2-0485-4e22-b692-3f8a765d2582</td>\n",
       "      <td>NaN</td>\n",
       "      <td>Driver</td>\n",
       "      <td>Driver</td>\n",
       "      <td>11819198</td>\n",
       "      <td>NaN</td>\n",
       "      <td>4419608</td>\n",
       "    </tr>\n",
       "    <tr>\n",
       "      <th>2</th>\n",
       "      <td>2021-10-15</td>\n",
       "      <td>2:00</td>\n",
       "      <td>Killed</td>\n",
       "      <td>30.0</td>\n",
       "      <td>Head</td>\n",
       "      <td>None</td>\n",
       "      <td>M</td>\n",
       "      <td>Occupant</td>\n",
       "      <td>NaN</td>\n",
       "      <td>NaN</td>\n",
       "      <td>...</td>\n",
       "      <td>Internal</td>\n",
       "      <td>Apparent Death</td>\n",
       "      <td>20091024.0</td>\n",
       "      <td>1a6f5aa7-5125-4be2-8499-fe7977cb0d90</td>\n",
       "      <td>NaN</td>\n",
       "      <td>Driver</td>\n",
       "      <td>Driver</td>\n",
       "      <td>11998317</td>\n",
       "      <td>NaN</td>\n",
       "      <td>4467504</td>\n",
       "    </tr>\n",
       "    <tr>\n",
       "      <th>3</th>\n",
       "      <td>2021-04-17</td>\n",
       "      <td>13:00</td>\n",
       "      <td>Killed</td>\n",
       "      <td>71.0</td>\n",
       "      <td>Head</td>\n",
       "      <td>NaN</td>\n",
       "      <td>M</td>\n",
       "      <td>Pedestrian</td>\n",
       "      <td>Pedestrian/Bicyclist/Other Pedestrian Not at I...</td>\n",
       "      <td>Unspecified</td>\n",
       "      <td>...</td>\n",
       "      <td>Internal</td>\n",
       "      <td>Unconscious</td>\n",
       "      <td>NaN</td>\n",
       "      <td>b950706b-00a4-485c-84c5-777208cc3cc9</td>\n",
       "      <td>Pedestrian/Bicyclist/Other Pedestrian Error/Co...</td>\n",
       "      <td>NaN</td>\n",
       "      <td>Pedestrian</td>\n",
       "      <td>11745791</td>\n",
       "      <td>Crossing, No Signal, or Crosswalk</td>\n",
       "      <td>4408062</td>\n",
       "    </tr>\n",
       "    <tr>\n",
       "      <th>4</th>\n",
       "      <td>2021-05-25</td>\n",
       "      <td>22:00</td>\n",
       "      <td>Killed</td>\n",
       "      <td>69.0</td>\n",
       "      <td>Entire Body</td>\n",
       "      <td>NaN</td>\n",
       "      <td>F</td>\n",
       "      <td>Pedestrian</td>\n",
       "      <td>Pedestrian/Bicyclist/Other Pedestrian Not at I...</td>\n",
       "      <td>Unspecified</td>\n",
       "      <td>...</td>\n",
       "      <td>None Visible</td>\n",
       "      <td>Conscious</td>\n",
       "      <td>NaN</td>\n",
       "      <td>6504ea0a-c92d-444c-8127-284943be9aac</td>\n",
       "      <td>Unspecified</td>\n",
       "      <td>NaN</td>\n",
       "      <td>Pedestrian</td>\n",
       "      <td>11991283</td>\n",
       "      <td>Crossing, No Signal, Marked Crosswalk</td>\n",
       "      <td>4420918</td>\n",
       "    </tr>\n",
       "  </tbody>\n",
       "</table>\n",
       "<p>5 rows × 21 columns</p>\n",
       "</div>"
      ],
      "text/plain": [
       "   CRASH_DATE CRASH_TIME PERSON_INJURY  PERSON_AGE BODILY_INJURY  \\\n",
       "0  2021-05-02      21:00        Killed        62.0          Head   \n",
       "1  2021-05-21       0:00        Killed        24.0   Entire Body   \n",
       "2  2021-10-15       2:00        Killed        30.0          Head   \n",
       "3  2021-04-17      13:00        Killed        71.0          Head   \n",
       "4  2021-05-25      22:00        Killed        69.0   Entire Body   \n",
       "\n",
       "   SAFETY_EQUIPMENT PERSON_SEX PERSON_TYPE  \\\n",
       "0               NaN          F  Pedestrian   \n",
       "1  Air Bag Deployed          M    Occupant   \n",
       "2              None          M    Occupant   \n",
       "3               NaN          M  Pedestrian   \n",
       "4               NaN          F  Pedestrian   \n",
       "\n",
       "                                        PED_LOCATION  \\\n",
       "0  Pedestrian/Bicyclist/Other Pedestrian at Inter...   \n",
       "1                                                NaN   \n",
       "2                                                NaN   \n",
       "3  Pedestrian/Bicyclist/Other Pedestrian Not at I...   \n",
       "4  Pedestrian/Bicyclist/Other Pedestrian Not at I...   \n",
       "\n",
       "                               CONTRIBUTING_FACTOR_2  ...        COMPLAINT  \\\n",
       "0  Pedestrian/Bicyclist/Other Pedestrian Error/Co...  ...  Severe Bleeding   \n",
       "1                                                NaN  ...         Internal   \n",
       "2                                                NaN  ...         Internal   \n",
       "3                                        Unspecified  ...         Internal   \n",
       "4                                        Unspecified  ...     None Visible   \n",
       "\n",
       "  EMOTIONAL_STATUS  VEHICLE_ID                             PERSON_ID  \\\n",
       "0   Apparent Death         NaN  f2f329b6-2dfc-4bd0-b751-2e4255f1ea06   \n",
       "1   Apparent Death  19986231.0  e27e12a2-0485-4e22-b692-3f8a765d2582   \n",
       "2   Apparent Death  20091024.0  1a6f5aa7-5125-4be2-8499-fe7977cb0d90   \n",
       "3      Unconscious         NaN  b950706b-00a4-485c-84c5-777208cc3cc9   \n",
       "4        Conscious         NaN  6504ea0a-c92d-444c-8127-284943be9aac   \n",
       "\n",
       "                               CONTRIBUTING_FACTOR_1 POSITION_IN_VEHICLE  \\\n",
       "0                        Traffic Control Disregarded                 NaN   \n",
       "1                                                NaN              Driver   \n",
       "2                                                NaN              Driver   \n",
       "3  Pedestrian/Bicyclist/Other Pedestrian Error/Co...                 NaN   \n",
       "4                                        Unspecified                 NaN   \n",
       "\n",
       "     PED_ROLE UNIQUE_ID                             PED_ACTION COLLISION_ID  \n",
       "0  Pedestrian  11791937                Crossing Against Signal      4412948  \n",
       "1      Driver  11819198                                    NaN      4419608  \n",
       "2      Driver  11998317                                    NaN      4467504  \n",
       "3  Pedestrian  11745791      Crossing, No Signal, or Crosswalk      4408062  \n",
       "4  Pedestrian  11991283  Crossing, No Signal, Marked Crosswalk      4420918  \n",
       "\n",
       "[5 rows x 21 columns]"
      ]
     },
     "execution_count": 105,
     "metadata": {},
     "output_type": "execute_result"
    }
   ],
   "source": [
    "import pandas as pd\n",
    "import matplotlib.pyplot as plt\n",
    "import matplotlib\n",
    "import seaborn as sns\n",
    "\n",
    "joy = pd.read_csv('NYC_Motor_Vehicle_Collisions_to_Person.csv')\n",
    "joy.head()"
   ]
  },
  {
   "cell_type": "markdown",
   "id": "5a9f48ab-9092-4c32-9ea4-ac4b42542ef4",
   "metadata": {},
   "source": [
    "### Kita import semua library yang kita mau pakai, setelah itu kita panggil csv nya dan kita tampilkan"
   ]
  },
  {
   "cell_type": "code",
   "execution_count": 106,
   "id": "75b1b623-cce9-45d0-ac95-3e809a936151",
   "metadata": {},
   "outputs": [
    {
     "data": {
      "text/html": [
       "<div>\n",
       "<style scoped>\n",
       "    .dataframe tbody tr th:only-of-type {\n",
       "        vertical-align: middle;\n",
       "    }\n",
       "\n",
       "    .dataframe tbody tr th {\n",
       "        vertical-align: top;\n",
       "    }\n",
       "\n",
       "    .dataframe thead th {\n",
       "        text-align: right;\n",
       "    }\n",
       "</style>\n",
       "<table border=\"1\" class=\"dataframe\">\n",
       "  <thead>\n",
       "    <tr style=\"text-align: right;\">\n",
       "      <th></th>\n",
       "      <th>CRASH_TIME</th>\n",
       "      <th>PERSON_INJURY</th>\n",
       "      <th>PERSON_AGE</th>\n",
       "      <th>BODILY_INJURY</th>\n",
       "      <th>SAFETY_EQUIPMENT</th>\n",
       "      <th>PERSON_SEX</th>\n",
       "      <th>PERSON_TYPE</th>\n",
       "      <th>PED_LOCATION</th>\n",
       "      <th>CONTRIBUTING_FACTOR_2</th>\n",
       "      <th>EJECTION</th>\n",
       "      <th>COMPLAINT</th>\n",
       "      <th>EMOTIONAL_STATUS</th>\n",
       "      <th>VEHICLE_ID</th>\n",
       "      <th>PERSON_ID</th>\n",
       "      <th>CONTRIBUTING_FACTOR_1</th>\n",
       "      <th>POSITION_IN_VEHICLE</th>\n",
       "      <th>PED_ROLE</th>\n",
       "      <th>UNIQUE_ID</th>\n",
       "      <th>PED_ACTION</th>\n",
       "      <th>COLLISION_ID</th>\n",
       "    </tr>\n",
       "    <tr>\n",
       "      <th>CRASH_DATE</th>\n",
       "      <th></th>\n",
       "      <th></th>\n",
       "      <th></th>\n",
       "      <th></th>\n",
       "      <th></th>\n",
       "      <th></th>\n",
       "      <th></th>\n",
       "      <th></th>\n",
       "      <th></th>\n",
       "      <th></th>\n",
       "      <th></th>\n",
       "      <th></th>\n",
       "      <th></th>\n",
       "      <th></th>\n",
       "      <th></th>\n",
       "      <th></th>\n",
       "      <th></th>\n",
       "      <th></th>\n",
       "      <th></th>\n",
       "      <th></th>\n",
       "    </tr>\n",
       "  </thead>\n",
       "  <tbody>\n",
       "    <tr>\n",
       "      <th>2021-05-02</th>\n",
       "      <td>21:00</td>\n",
       "      <td>Killed</td>\n",
       "      <td>62.0</td>\n",
       "      <td>Head</td>\n",
       "      <td>NaN</td>\n",
       "      <td>F</td>\n",
       "      <td>Pedestrian</td>\n",
       "      <td>Pedestrian/Bicyclist/Other Pedestrian at Inter...</td>\n",
       "      <td>Pedestrian/Bicyclist/Other Pedestrian Error/Co...</td>\n",
       "      <td>NaN</td>\n",
       "      <td>Severe Bleeding</td>\n",
       "      <td>Apparent Death</td>\n",
       "      <td>NaN</td>\n",
       "      <td>f2f329b6-2dfc-4bd0-b751-2e4255f1ea06</td>\n",
       "      <td>Traffic Control Disregarded</td>\n",
       "      <td>NaN</td>\n",
       "      <td>Pedestrian</td>\n",
       "      <td>11791937</td>\n",
       "      <td>Crossing Against Signal</td>\n",
       "      <td>4412948</td>\n",
       "    </tr>\n",
       "    <tr>\n",
       "      <th>2021-05-21</th>\n",
       "      <td>0:00</td>\n",
       "      <td>Killed</td>\n",
       "      <td>24.0</td>\n",
       "      <td>Entire Body</td>\n",
       "      <td>Air Bag Deployed</td>\n",
       "      <td>M</td>\n",
       "      <td>Occupant</td>\n",
       "      <td>NaN</td>\n",
       "      <td>NaN</td>\n",
       "      <td>Trapped</td>\n",
       "      <td>Internal</td>\n",
       "      <td>Apparent Death</td>\n",
       "      <td>19986231.0</td>\n",
       "      <td>e27e12a2-0485-4e22-b692-3f8a765d2582</td>\n",
       "      <td>NaN</td>\n",
       "      <td>Driver</td>\n",
       "      <td>Driver</td>\n",
       "      <td>11819198</td>\n",
       "      <td>NaN</td>\n",
       "      <td>4419608</td>\n",
       "    </tr>\n",
       "    <tr>\n",
       "      <th>2021-10-15</th>\n",
       "      <td>2:00</td>\n",
       "      <td>Killed</td>\n",
       "      <td>30.0</td>\n",
       "      <td>Head</td>\n",
       "      <td>None</td>\n",
       "      <td>M</td>\n",
       "      <td>Occupant</td>\n",
       "      <td>NaN</td>\n",
       "      <td>NaN</td>\n",
       "      <td>Not Ejected</td>\n",
       "      <td>Internal</td>\n",
       "      <td>Apparent Death</td>\n",
       "      <td>20091024.0</td>\n",
       "      <td>1a6f5aa7-5125-4be2-8499-fe7977cb0d90</td>\n",
       "      <td>NaN</td>\n",
       "      <td>Driver</td>\n",
       "      <td>Driver</td>\n",
       "      <td>11998317</td>\n",
       "      <td>NaN</td>\n",
       "      <td>4467504</td>\n",
       "    </tr>\n",
       "    <tr>\n",
       "      <th>2021-04-17</th>\n",
       "      <td>13:00</td>\n",
       "      <td>Killed</td>\n",
       "      <td>71.0</td>\n",
       "      <td>Head</td>\n",
       "      <td>NaN</td>\n",
       "      <td>M</td>\n",
       "      <td>Pedestrian</td>\n",
       "      <td>Pedestrian/Bicyclist/Other Pedestrian Not at I...</td>\n",
       "      <td>Unspecified</td>\n",
       "      <td>NaN</td>\n",
       "      <td>Internal</td>\n",
       "      <td>Unconscious</td>\n",
       "      <td>NaN</td>\n",
       "      <td>b950706b-00a4-485c-84c5-777208cc3cc9</td>\n",
       "      <td>Pedestrian/Bicyclist/Other Pedestrian Error/Co...</td>\n",
       "      <td>NaN</td>\n",
       "      <td>Pedestrian</td>\n",
       "      <td>11745791</td>\n",
       "      <td>Crossing, No Signal, or Crosswalk</td>\n",
       "      <td>4408062</td>\n",
       "    </tr>\n",
       "    <tr>\n",
       "      <th>2021-05-25</th>\n",
       "      <td>22:00</td>\n",
       "      <td>Killed</td>\n",
       "      <td>69.0</td>\n",
       "      <td>Entire Body</td>\n",
       "      <td>NaN</td>\n",
       "      <td>F</td>\n",
       "      <td>Pedestrian</td>\n",
       "      <td>Pedestrian/Bicyclist/Other Pedestrian Not at I...</td>\n",
       "      <td>Unspecified</td>\n",
       "      <td>NaN</td>\n",
       "      <td>None Visible</td>\n",
       "      <td>Conscious</td>\n",
       "      <td>NaN</td>\n",
       "      <td>6504ea0a-c92d-444c-8127-284943be9aac</td>\n",
       "      <td>Unspecified</td>\n",
       "      <td>NaN</td>\n",
       "      <td>Pedestrian</td>\n",
       "      <td>11991283</td>\n",
       "      <td>Crossing, No Signal, Marked Crosswalk</td>\n",
       "      <td>4420918</td>\n",
       "    </tr>\n",
       "  </tbody>\n",
       "</table>\n",
       "</div>"
      ],
      "text/plain": [
       "           CRASH_TIME PERSON_INJURY  PERSON_AGE BODILY_INJURY  \\\n",
       "CRASH_DATE                                                      \n",
       "2021-05-02      21:00        Killed        62.0          Head   \n",
       "2021-05-21       0:00        Killed        24.0   Entire Body   \n",
       "2021-10-15       2:00        Killed        30.0          Head   \n",
       "2021-04-17      13:00        Killed        71.0          Head   \n",
       "2021-05-25      22:00        Killed        69.0   Entire Body   \n",
       "\n",
       "            SAFETY_EQUIPMENT PERSON_SEX PERSON_TYPE  \\\n",
       "CRASH_DATE                                            \n",
       "2021-05-02               NaN          F  Pedestrian   \n",
       "2021-05-21  Air Bag Deployed          M    Occupant   \n",
       "2021-10-15              None          M    Occupant   \n",
       "2021-04-17               NaN          M  Pedestrian   \n",
       "2021-05-25               NaN          F  Pedestrian   \n",
       "\n",
       "                                                 PED_LOCATION  \\\n",
       "CRASH_DATE                                                      \n",
       "2021-05-02  Pedestrian/Bicyclist/Other Pedestrian at Inter...   \n",
       "2021-05-21                                                NaN   \n",
       "2021-10-15                                                NaN   \n",
       "2021-04-17  Pedestrian/Bicyclist/Other Pedestrian Not at I...   \n",
       "2021-05-25  Pedestrian/Bicyclist/Other Pedestrian Not at I...   \n",
       "\n",
       "                                        CONTRIBUTING_FACTOR_2     EJECTION  \\\n",
       "CRASH_DATE                                                                   \n",
       "2021-05-02  Pedestrian/Bicyclist/Other Pedestrian Error/Co...          NaN   \n",
       "2021-05-21                                                NaN      Trapped   \n",
       "2021-10-15                                                NaN  Not Ejected   \n",
       "2021-04-17                                        Unspecified          NaN   \n",
       "2021-05-25                                        Unspecified          NaN   \n",
       "\n",
       "                  COMPLAINT EMOTIONAL_STATUS  VEHICLE_ID  \\\n",
       "CRASH_DATE                                                 \n",
       "2021-05-02  Severe Bleeding   Apparent Death         NaN   \n",
       "2021-05-21         Internal   Apparent Death  19986231.0   \n",
       "2021-10-15         Internal   Apparent Death  20091024.0   \n",
       "2021-04-17         Internal      Unconscious         NaN   \n",
       "2021-05-25     None Visible        Conscious         NaN   \n",
       "\n",
       "                                       PERSON_ID  \\\n",
       "CRASH_DATE                                         \n",
       "2021-05-02  f2f329b6-2dfc-4bd0-b751-2e4255f1ea06   \n",
       "2021-05-21  e27e12a2-0485-4e22-b692-3f8a765d2582   \n",
       "2021-10-15  1a6f5aa7-5125-4be2-8499-fe7977cb0d90   \n",
       "2021-04-17  b950706b-00a4-485c-84c5-777208cc3cc9   \n",
       "2021-05-25  6504ea0a-c92d-444c-8127-284943be9aac   \n",
       "\n",
       "                                        CONTRIBUTING_FACTOR_1  \\\n",
       "CRASH_DATE                                                      \n",
       "2021-05-02                        Traffic Control Disregarded   \n",
       "2021-05-21                                                NaN   \n",
       "2021-10-15                                                NaN   \n",
       "2021-04-17  Pedestrian/Bicyclist/Other Pedestrian Error/Co...   \n",
       "2021-05-25                                        Unspecified   \n",
       "\n",
       "           POSITION_IN_VEHICLE    PED_ROLE  UNIQUE_ID  \\\n",
       "CRASH_DATE                                              \n",
       "2021-05-02                 NaN  Pedestrian   11791937   \n",
       "2021-05-21              Driver      Driver   11819198   \n",
       "2021-10-15              Driver      Driver   11998317   \n",
       "2021-04-17                 NaN  Pedestrian   11745791   \n",
       "2021-05-25                 NaN  Pedestrian   11991283   \n",
       "\n",
       "                                       PED_ACTION  COLLISION_ID  \n",
       "CRASH_DATE                                                       \n",
       "2021-05-02                Crossing Against Signal       4412948  \n",
       "2021-05-21                                    NaN       4419608  \n",
       "2021-10-15                                    NaN       4467504  \n",
       "2021-04-17      Crossing, No Signal, or Crosswalk       4408062  \n",
       "2021-05-25  Crossing, No Signal, Marked Crosswalk       4420918  "
      ]
     },
     "execution_count": 106,
     "metadata": {},
     "output_type": "execute_result"
    }
   ],
   "source": [
    "joy.set_index('CRASH_DATE', inplace=True)\n",
    "joy.head()"
   ]
  },
  {
   "cell_type": "code",
   "execution_count": 107,
   "id": "ea4e5bf2-618c-496e-9608-e5a424f19d56",
   "metadata": {},
   "outputs": [
    {
     "data": {
      "text/plain": [
       "CRASH_DATE\n",
       "2021-05-25     Killed\n",
       "2021-05-25     Killed\n",
       "2021-05-25    Injured\n",
       "2021-05-25    Injured\n",
       "2021-05-25    Injured\n",
       "               ...   \n",
       "2021-05-25    Injured\n",
       "2021-05-25    Injured\n",
       "2021-05-25    Injured\n",
       "2021-05-25    Injured\n",
       "2021-05-25    Injured\n",
       "Name: PERSON_INJURY, Length: 205, dtype: object"
      ]
     },
     "execution_count": 107,
     "metadata": {},
     "output_type": "execute_result"
    }
   ],
   "source": [
    "joy.loc['2021-05-25','PERSON_INJURY']"
   ]
  },
  {
   "cell_type": "markdown",
   "id": "1981deb3-4d6e-465e-bf84-94b485808c39",
   "metadata": {},
   "source": [
    "### CRASH_DATE kita jadikan index agar gampang menggunakan \".loc\" nantinya"
   ]
  },
  {
   "cell_type": "code",
   "execution_count": 108,
   "id": "2c8cf3f0-ac31-4082-9e48-c79c4ad3243f",
   "metadata": {},
   "outputs": [
    {
     "data": {
      "text/plain": [
       "Injured    45416\n",
       "Killed       253\n",
       "Name: PERSON_INJURY, dtype: int64"
      ]
     },
     "execution_count": 108,
     "metadata": {},
     "output_type": "execute_result"
    }
   ],
   "source": [
    "status_korban = joy['PERSON_INJURY'].value_counts()\n",
    "status_korban"
   ]
  },
  {
   "cell_type": "code",
   "execution_count": 109,
   "id": "8fbef8ec-ea26-4c11-90d0-da06e419cf09",
   "metadata": {},
   "outputs": [
    {
     "data": {
      "text/html": [
       "<div>\n",
       "<style scoped>\n",
       "    .dataframe tbody tr th:only-of-type {\n",
       "        vertical-align: middle;\n",
       "    }\n",
       "\n",
       "    .dataframe tbody tr th {\n",
       "        vertical-align: top;\n",
       "    }\n",
       "\n",
       "    .dataframe thead th {\n",
       "        text-align: right;\n",
       "    }\n",
       "</style>\n",
       "<table border=\"1\" class=\"dataframe\">\n",
       "  <thead>\n",
       "    <tr style=\"text-align: right;\">\n",
       "      <th></th>\n",
       "      <th>PERSON_AGE</th>\n",
       "      <th>VEHICLE_ID</th>\n",
       "      <th>UNIQUE_ID</th>\n",
       "      <th>COLLISION_ID</th>\n",
       "    </tr>\n",
       "    <tr>\n",
       "      <th>PERSON_INJURY</th>\n",
       "      <th></th>\n",
       "      <th></th>\n",
       "      <th></th>\n",
       "      <th></th>\n",
       "    </tr>\n",
       "  </thead>\n",
       "  <tbody>\n",
       "    <tr>\n",
       "      <th>Injured</th>\n",
       "      <td>1684802.0</td>\n",
       "      <td>7.790462e+11</td>\n",
       "      <td>537533350454</td>\n",
       "      <td>201271828588</td>\n",
       "    </tr>\n",
       "    <tr>\n",
       "      <th>Killed</th>\n",
       "      <td>11439.0</td>\n",
       "      <td>2.782258e+09</td>\n",
       "      <td>2999343028</td>\n",
       "      <td>1121164471</td>\n",
       "    </tr>\n",
       "  </tbody>\n",
       "</table>\n",
       "</div>"
      ],
      "text/plain": [
       "               PERSON_AGE    VEHICLE_ID     UNIQUE_ID  COLLISION_ID\n",
       "PERSON_INJURY                                                      \n",
       "Injured         1684802.0  7.790462e+11  537533350454  201271828588\n",
       "Killed            11439.0  2.782258e+09    2999343028    1121164471"
      ]
     },
     "execution_count": 109,
     "metadata": {},
     "output_type": "execute_result"
    }
   ],
   "source": [
    "korban_group = df.groupby('PERSON_INJURY').sum()\n",
    "korban_group.head()"
   ]
  },
  {
   "cell_type": "markdown",
   "id": "1408aac0-60d4-48d9-a4a2-da7dab167618",
   "metadata": {},
   "source": [
    "### kita membuat variabel \"status_korban\" dan \"korban group' agar enak memanggilnya saat membuat visualisasi data"
   ]
  },
  {
   "cell_type": "code",
   "execution_count": 110,
   "id": "6d5891f3-86ff-4341-b74c-796b2c36d209",
   "metadata": {},
   "outputs": [
    {
     "data": {
      "image/png": "[encoded data removed]",
      "text/plain": [
       "<Figure size 640x480 with 1 Axes>"
      ]
     },
     "metadata": {},
     "output_type": "display_data"
    }
   ],
   "source": [
    "# pandas\n",
    "status_korban.plot.bar()\n",
    "plt.title('Data Total dan Status Korban')\n",
    "plt.xlabel('Status Korban')\n",
    "plt.ylabel('Total Korban')\n",
    "plt.show()"
   ]
  },
  {
   "cell_type": "markdown",
   "id": "f5bba698-4812-41dc-a526-e0ef5ed480be",
   "metadata": {},
   "source": [
    "## menurut grafik batang diatas dapat disimpulkan bahwa korban luka-luka lebih banyak diatas 40.000, daripada korban meninggal"
   ]
  },
  {
   "cell_type": "code",
   "execution_count": 111,
   "id": "8fe47456-e090-4c0f-b076-fb5c40ed79c0",
   "metadata": {},
   "outputs": [
    {
     "data": {
      "image/png": "[encoded data removed]",
      "text/plain": [
       "<Figure size 640x480 with 1 Axes>"
      ]
     },
     "metadata": {},
     "output_type": "display_data"
    }
   ],
   "source": [
    "# matplotlib\n",
    "plt.hist(joy['PERSON_INJURY'])\n",
    "plt.title('Data Total dan Status Korban')\n",
    "plt.xlabel('Status Korban')\n",
    "plt.ylabel('Total Korban')\n",
    "plt.show()"
   ]
  },
  {
   "cell_type": "markdown",
   "id": "199e27c2-2e20-4c99-8d71-ad46f91936e2",
   "metadata": {},
   "source": [
    "## menurut grafik histogram diatas dapat disimpulkan bahwa korban luka-luka lebih banyak daripada korban meninggal (persis seperti grafik batang diatas)"
   ]
  },
  {
   "cell_type": "code",
   "execution_count": 112,
   "id": "d0ad1e96-d270-4b81-ba22-42fe21c93377",
   "metadata": {},
   "outputs": [
    {
     "data": {
      "text/plain": [
       "Text(0.5, 1.0, 'Total korban jika dikonversi ke persenan')"
      ]
     },
     "execution_count": 112,
     "metadata": {},
     "output_type": "execute_result"
    },
    {
     "data": {
      "image/png": "[encoded data removed]",
      "text/plain": [
       "<Figure size 700x1200 with 1 Axes>"
      ]
     },
     "metadata": {},
     "output_type": "display_data"
    }
   ],
   "source": [
    "plt.figure(figsize=(7,12))\n",
    "korban_group['PERSON_AGE'].plot.pie(autopct='%.1f%%')\n",
    "plt.title('Total korban jika dikonversi ke persenan')"
   ]
  },
  {
   "cell_type": "markdown",
   "id": "1bff8363-7ca9-4640-a799-63a5fd147049",
   "metadata": {},
   "source": [
    "## ketika diliat dari grafik lingkaran(pie chart) menunjukkan bahwa total korban luka-luka sebesar 99.3% dan meninggal 0,7%"
   ]
  },
  {
   "cell_type": "code",
   "execution_count": 113,
   "id": "8093fd93-b568-44bd-8bf5-041a41de1635",
   "metadata": {},
   "outputs": [
    {
     "data": {
      "image/png": "[encoded data removed]",
      "text/plain": [
       "<Figure size 640x480 with 1 Axes>"
      ]
     },
     "metadata": {},
     "output_type": "display_data"
    }
   ],
   "source": [
    "# seaborn\n",
    "sns.scatterplot(\n",
    "    data=joy,\n",
    "    x='PERSON_SEX',\n",
    "    y='EMOTIONAL_STATUS',\n",
    "    hue='PERSON_INJURY'\n",
    ")\n",
    "\n",
    "plt.title('Data Kecelakaan menurut Tingkat emosional')\n",
    "plt.xlabel('Status Emosional')\n",
    "plt.ylabel('Jenis Kelamin')\n",
    "plt.show()"
   ]
  },
  {
   "cell_type": "markdown",
   "id": "6b372ff6-b838-4f2f-9f7c-7ee39ed24bad",
   "metadata": {},
   "source": [
    "## terlihat dari grafik scatterplot diatas, kecelakan disebabkan oleh dari segala jenis emosional yang buruk, dari jenis kelamin perempuan, laki-laki dan yang tidak teridentifikasi"
   ]
  },
  {
   "cell_type": "code",
   "execution_count": 114,
   "id": "b79160a4-a13b-4ac7-bb6d-bee843ed38b8",
   "metadata": {},
   "outputs": [
    {
     "data": {
      "text/html": [
       "<div>\n",
       "<style scoped>\n",
       "    .dataframe tbody tr th:only-of-type {\n",
       "        vertical-align: middle;\n",
       "    }\n",
       "\n",
       "    .dataframe tbody tr th {\n",
       "        vertical-align: top;\n",
       "    }\n",
       "\n",
       "    .dataframe thead th {\n",
       "        text-align: right;\n",
       "    }\n",
       "</style>\n",
       "<table border=\"1\" class=\"dataframe\">\n",
       "  <thead>\n",
       "    <tr style=\"text-align: right;\">\n",
       "      <th></th>\n",
       "      <th>PERSON_AGE</th>\n",
       "      <th>VEHICLE_ID</th>\n",
       "      <th>UNIQUE_ID</th>\n",
       "      <th>COLLISION_ID</th>\n",
       "    </tr>\n",
       "  </thead>\n",
       "  <tbody>\n",
       "    <tr>\n",
       "      <th>PERSON_AGE</th>\n",
       "      <td>1.000000</td>\n",
       "      <td>0.002057</td>\n",
       "      <td>0.000751</td>\n",
       "      <td>0.003721</td>\n",
       "    </tr>\n",
       "    <tr>\n",
       "      <th>VEHICLE_ID</th>\n",
       "      <td>0.002057</td>\n",
       "      <td>1.000000</td>\n",
       "      <td>0.999995</td>\n",
       "      <td>0.943931</td>\n",
       "    </tr>\n",
       "    <tr>\n",
       "      <th>UNIQUE_ID</th>\n",
       "      <td>0.000751</td>\n",
       "      <td>0.999995</td>\n",
       "      <td>1.000000</td>\n",
       "      <td>0.944774</td>\n",
       "    </tr>\n",
       "    <tr>\n",
       "      <th>COLLISION_ID</th>\n",
       "      <td>0.003721</td>\n",
       "      <td>0.943931</td>\n",
       "      <td>0.944774</td>\n",
       "      <td>1.000000</td>\n",
       "    </tr>\n",
       "  </tbody>\n",
       "</table>\n",
       "</div>"
      ],
      "text/plain": [
       "              PERSON_AGE  VEHICLE_ID  UNIQUE_ID  COLLISION_ID\n",
       "PERSON_AGE      1.000000    0.002057   0.000751      0.003721\n",
       "VEHICLE_ID      0.002057    1.000000   0.999995      0.943931\n",
       "UNIQUE_ID       0.000751    0.999995   1.000000      0.944774\n",
       "COLLISION_ID    0.003721    0.943931   0.944774      1.000000"
      ]
     },
     "execution_count": 114,
     "metadata": {},
     "output_type": "execute_result"
    }
   ],
   "source": [
    "# seaborn\n",
    "total_corr = joy.loc[:, 'CRASH_TIME':'COLLISION_ID'].corr()\n",
    "total_corr "
   ]
  },
  {
   "cell_type": "code",
   "execution_count": 115,
   "id": "5f2d3737-2e43-4971-ae2e-826723148a9b",
   "metadata": {},
   "outputs": [
    {
     "data": {
      "text/plain": [
       "<AxesSubplot: >"
      ]
     },
     "execution_count": 115,
     "metadata": {},
     "output_type": "execute_result"
    },
    {
     "data": {
      "image/png": "[encoded data removed]",
      "text/plain": [
       "<Figure size 640x480 with 2 Axes>"
      ]
     },
     "metadata": {},
     "output_type": "display_data"
    }
   ],
   "source": [
    "sns.heatmap(total_corr , annot=True, cmap='cividis')"
   ]
  },
  {
   "cell_type": "markdown",
   "id": "201777ee-f162-4fb7-9b18-f17f896ebd9b",
   "metadata": {},
   "source": [
    "## Korelasi antar ID cenderung menonjol besar daripada PERSON_AGE"
   ]
  },
  {
   "cell_type": "code",
   "execution_count": null,
   "id": "c2c462c2-9003-4041-98ba-f0e26feaf038",
   "metadata": {},
   "outputs": [],
   "source": []
  }
 ],
 "metadata": {
  "kernelspec": {
   "display_name": "joy_014",
   "language": "python",
   "name": "joy_014"
  },
  "language_info": {
   "codemirror_mode": {
    "name": "ipython",
    "version": 3
   },
   "file_extension": ".py",
   "mimetype": "text/x-python",
   "name": "python",
   "nbconvert_exporter": "python",
   "pygments_lexer": "ipython3",
   "version": "3.10.7"
  }
 },
 "nbformat": 4,
 "nbformat_minor": 5
}
